{
 "cells": [
  {
   "cell_type": "code",
   "execution_count": 25,
   "id": "d797a7f0",
   "metadata": {},
   "outputs": [],
   "source": [
    "from datasets import load_dataset\n",
    "from transformers import AutoTokenizer"
   ]
  },
  {
   "cell_type": "code",
   "execution_count": 7,
   "id": "ac6a7de5",
   "metadata": {},
   "outputs": [],
   "source": [
    "dataset = load_dataset(\"andresnowak/Instruction-finetuning-mnlp\")"
   ]
  },
  {
   "cell_type": "code",
   "execution_count": 8,
   "id": "b3893567",
   "metadata": {},
   "outputs": [
    {
     "data": {
      "text/plain": [
       "'Provide a detailed analysis of Candace Parker\\'s defensive techniques in her recent games, excluding the words \"aggressive\" and \"blocking\", in the format of a sports commentary script.'"
      ]
     },
     "execution_count": 8,
     "metadata": {},
     "output_type": "execute_result"
    }
   ],
   "source": [
    "dataset[\"train\"][\"messages\"][0][0][\"content\"]"
   ]
  },
  {
   "cell_type": "code",
   "execution_count": 19,
   "id": "7e30938d",
   "metadata": {},
   "outputs": [],
   "source": [
    "def tokenize_function(example):\n",
    "    val = example[\"messages\"][0][0][\"content\"]"
   ]
  },
  {
   "cell_type": "code",
   "execution_count": 20,
   "id": "a79c58ad",
   "metadata": {},
   "outputs": [
    {
     "data": {
      "application/vnd.jupyter.widget-view+json": {
       "model_id": "b080855faaf947beb5a4c1bc83dff0b4",
       "version_major": 2,
       "version_minor": 0
      },
      "text/plain": [
       "Map:   0%|          | 0/264919 [00:00<?, ? examples/s]"
      ]
     },
     "metadata": {},
     "output_type": "display_data"
    },
    {
     "data": {
      "text/plain": [
       "DatasetDict({\n",
       "    train: Dataset({\n",
       "        features: ['id', 'prompt', 'messages', 'constraints'],\n",
       "        num_rows: 264919\n",
       "    })\n",
       "})"
      ]
     },
     "execution_count": 20,
     "metadata": {},
     "output_type": "execute_result"
    }
   ],
   "source": [
    "dataset.map(\n",
    "        tokenize_function,\n",
    "        batched=True,\n",
    "        remove_columns=dataset[\"train\"].column_names,\n",
    ")"
   ]
  },
  {
   "cell_type": "code",
   "execution_count": 26,
   "id": "363bd700",
   "metadata": {},
   "outputs": [],
   "source": [
    "tokenizer = AutoTokenizer.from_pretrained(\"Qwen/Qwen3-0.6B-Base\")"
   ]
  },
  {
   "cell_type": "code",
   "execution_count": 29,
   "id": "5b181580",
   "metadata": {},
   "outputs": [],
   "source": [
    "def format_instruction(example):\n",
    "    \"\"\"Extract the first user instruction and assistant response\"\"\"\n",
    "    messages = example\n",
    "    instruction = \"\"\n",
    "    response = \"\"\n",
    "    \n",
    "    # Find first user message (instruction)\n",
    "    for msg in messages:\n",
    "        if msg['role'] == 'user':\n",
    "            instruction = msg['content']\n",
    "            break\n",
    "    \n",
    "    # Find corresponding assistant response\n",
    "    for msg in messages:\n",
    "        if msg['role'] == 'assistant':\n",
    "            response = msg['content']\n",
    "            break\n",
    "    \n",
    "    return {\n",
    "        \"input\": instruction,\n",
    "        \"output\": response,\n",
    "        \"formatted_text\": f\"### Instruction:\\n{instruction}\\n\\n### Response:\\n{response}\"\n",
    "    }\n",
    "\n",
    "def tokenize_function(examples):\n",
    "    # Format the examples\n",
    "    formatted = [format_instruction(ex) for ex in examples[\"messages\"]]\n",
    "    \n",
    "    # Tokenize inputs (instruction only)\n",
    "    model_inputs = tokenizer(\n",
    "        [f[\"input\"] for f in formatted],\n",
    "        truncation=True,\n",
    "        max_length=1000,\n",
    "        padding=\"max_length\"\n",
    "    )\n",
    "    \n",
    "    # Tokenize outputs (response only) for labels\n",
    "    with tokenizer.as_target_tokenizer():\n",
    "        labels = tokenizer(\n",
    "            [f[\"output\"] for f in formatted],\n",
    "            truncation=True,\n",
    "            max_length=1000,\n",
    "            padding=\"max_length\"\n",
    "        )\n",
    "    \n",
    "    model_inputs[\"labels\"] = labels[\"input_ids\"]\n",
    "    return model_inputs"
   ]
  },
  {
   "cell_type": "code",
   "execution_count": null,
   "id": "1be31f0a",
   "metadata": {},
   "outputs": [
    {
     "data": {
      "application/vnd.jupyter.widget-view+json": {
       "model_id": "0e9e0837b8ee46bc8e0860164c4ea682",
       "version_major": 2,
       "version_minor": 0
      },
      "text/plain": [
       "Map:   0%|          | 0/264919 [00:00<?, ? examples/s]"
      ]
     },
     "metadata": {},
     "output_type": "display_data"
    },
    {
     "name": "stderr",
     "output_type": "stream",
     "text": [
      "/opt/homebrew/Caskroom/miniforge/base/envs/mcqa_model/lib/python3.11/site-packages/transformers/tokenization_utils_base.py:3980: UserWarning: `as_target_tokenizer` is deprecated and will be removed in v5 of Transformers. You can tokenize your labels by using the argument `text_target` of the regular `__call__` method (either in the same call as your input texts if you use the same keyword arguments, or in a separate call.\n",
      "  warnings.warn(\n"
     ]
    },
    {
     "data": {
      "text/plain": [
       "DatasetDict({\n",
       "    train: Dataset({\n",
       "        features: ['input_ids', 'attention_mask', 'labels'],\n",
       "        num_rows: 264919\n",
       "    })\n",
       "})"
      ]
     },
     "execution_count": 30,
     "metadata": {},
     "output_type": "execute_result"
    },
    {
     "ename": "",
     "evalue": "",
     "output_type": "error",
     "traceback": [
      "\u001b[1;31mThe Kernel crashed while executing code in the current cell or a previous cell. \n",
      "\u001b[1;31mPlease review the code in the cell(s) to identify a possible cause of the failure. \n",
      "\u001b[1;31mClick <a href='https://aka.ms/vscodeJupyterKernelCrash'>here</a> for more info. \n",
      "\u001b[1;31mView Jupyter <a href='command:jupyter.viewOutput'>log</a> for further details."
     ]
    }
   ],
   "source": [
    "dataset.map(\n",
    "        tokenize_function,\n",
    "        batched=True,\n",
    "        remove_columns=dataset[\"train\"].column_names,\n",
    ")"
   ]
  },
  {
   "cell_type": "code",
   "execution_count": null,
   "id": "b8eaa3c9",
   "metadata": {},
   "outputs": [],
   "source": []
  }
 ],
 "metadata": {
  "kernelspec": {
   "display_name": "mcqa_model",
   "language": "python",
   "name": "python3"
  },
  "language_info": {
   "codemirror_mode": {
    "name": "ipython",
    "version": 3
   },
   "file_extension": ".py",
   "mimetype": "text/x-python",
   "name": "python",
   "nbconvert_exporter": "python",
   "pygments_lexer": "ipython3",
   "version": "3.11.12"
  }
 },
 "nbformat": 4,
 "nbformat_minor": 5
}
